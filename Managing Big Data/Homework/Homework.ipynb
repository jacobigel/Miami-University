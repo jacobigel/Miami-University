{
 "cells": [
  {
   "cell_type": "markdown",
   "metadata": {},
   "source": [
    "# Homework 2"
   ]
  },
  {
   "cell_type": "code",
   "execution_count": 1,
   "metadata": {},
   "outputs": [
    {
     "name": "stdout",
     "output_type": "stream",
     "text": [
      "24.897043566413675\n"
     ]
    }
   ],
   "source": [
    "import random\n",
    "price = 25\n",
    "for x in range(1, 31, 1):\n",
    "    price = price + (random.gauss(mu = 0, sigma=0.05))\n",
    "print(price)"
   ]
  },
  {
   "cell_type": "markdown",
   "metadata": {},
   "source": [
    "# Homework 3"
   ]
  },
  {
   "cell_type": "code",
   "execution_count": 6,
   "metadata": {},
   "outputs": [
    {
     "name": "stdout",
     "output_type": "stream",
     "text": [
      "Hyderabad        357\n",
      "Bangkok          232\n",
      "Ashburn          146\n",
      "Singapore         48\n",
      "Mountain View     36\n",
      "Shanghai          35\n",
      "Zhengzhou         22\n",
      "Beijing           11\n",
      "Charlotte          3\n",
      "Guiyang            2\n",
      "Raleigh            2\n",
      "Shenzhen           1\n",
      "Tokyo              1\n",
      "Guangzhou          1\n",
      "Tracy              1\n",
      "Camponogara        1\n",
      "Name: City, dtype: int64\n"
     ]
    }
   ],
   "source": [
    "import pandas\n",
    "web_data = pandas.read_csv(\"web_log.csv\")\n",
    "web_data\n",
    "\n",
    "city_freq = pandas.value_counts(web_data[\"City\"])\n",
    "\n",
    "print(city_freq)\n",
    "\n",
    "# Should focus marketing efforts on Hyderabad\n",
    "\n",
    "city_freq.to_csv(\"city_freq.csv\")"
   ]
  },
  {
   "cell_type": "markdown",
   "metadata": {},
   "source": [
    "# Homework 4"
   ]
  },
  {
   "cell_type": "code",
   "execution_count": 17,
   "metadata": {},
   "outputs": [],
   "source": [
    "from homework4 import *\n",
    "\n",
    "ip_addresses = [\"165.70.141.165\", \"93.215.167.191\", \"197.177.61.197\", \"206.236.177.182\", \"5.77.63.24\", \"158.227.31.151\", \"82.233.65.66\", \"63.123.244.194\"]\n",
    "\n",
    "# need to remove all columns besides ip, country_name,city, lat, and long\n",
    "web_data = ip2address(ip_addresses)\n",
    "web_data.filter(items=['ip','country_name','city','latitude', 'longitude']).to_csv('web_data.csv',index = False)\n",
    "\n"
   ]
  },
  {
   "cell_type": "markdown",
   "metadata": {},
   "source": [
    "# Homework 5"
   ]
  },
  {
   "cell_type": "code",
   "execution_count": null,
   "metadata": {},
   "outputs": [],
   "source": []
  },
  {
   "cell_type": "markdown",
   "metadata": {},
   "source": [
    "# Homework 6"
   ]
  },
  {
   "cell_type": "code",
   "execution_count": null,
   "metadata": {},
   "outputs": [],
   "source": []
  },
  {
   "cell_type": "markdown",
   "metadata": {},
   "source": [
    "# Homework 7"
   ]
  },
  {
   "cell_type": "code",
   "execution_count": null,
   "metadata": {},
   "outputs": [],
   "source": []
  }
 ],
 "metadata": {
  "interpreter": {
   "hash": "aee8b7b246df8f9039afb4144a1f6fd8d2ca17a180786b69acc140d282b71a49"
  },
  "kernelspec": {
   "display_name": "Python 3.10.6 64-bit",
   "language": "python",
   "name": "python3"
  },
  "language_info": {
   "codemirror_mode": {
    "name": "ipython",
    "version": 3
   },
   "file_extension": ".py",
   "mimetype": "text/x-python",
   "name": "python",
   "nbconvert_exporter": "python",
   "pygments_lexer": "ipython3",
   "version": "3.10.6"
  },
  "orig_nbformat": 4
 },
 "nbformat": 4,
 "nbformat_minor": 2
}
