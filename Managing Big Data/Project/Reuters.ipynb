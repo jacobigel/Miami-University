{
 "cells": [
  {
   "cell_type": "markdown",
   "metadata": {},
   "source": [
    "# Reuters Code"
   ]
  },
  {
   "cell_type": "code",
   "execution_count": 1,
   "metadata": {},
   "outputs": [],
   "source": [
    "# modules needed\n",
    "import re\n",
    "import requests\n",
    "\n",
    "# url\n",
    "r = requests.get('https://www.reuters.com/graphics/USA-ELECTION/RESULTS/dwvkdgzdqpm/pennsylvania/')\n",
    "html_code = r.text"
   ]
  },
  {
   "cell_type": "code",
   "execution_count": 2,
   "metadata": {},
   "outputs": [],
   "source": [
    "# results data\n",
    "hits = re.finditer('<td class=\"cand cand-(.+?) svelte-1wffowh\">(.+?)</td>', html_code)\n",
    "data = [m.group(2) for m in hits]\n",
    "final_data = data[:18]\n",
    "party = final_data[::3]\n",
    "votes = final_data[1::3]\n",
    "pct = final_data[2::3]"
   ]
  },
  {
   "cell_type": "code",
   "execution_count": 3,
   "metadata": {},
   "outputs": [],
   "source": [
    "# candidate names\n",
    "candidates = ['John Fetterman', 'Mehmet Oz', 'Erik Gernhardt', 'Richard Weiss', 'Daniel Wassmer', 'Write-ins']"
   ]
  },
  {
   "cell_type": "code",
   "execution_count": 4,
   "metadata": {},
   "outputs": [
    {
     "data": {
      "text/html": [
       "<div>\n",
       "<style scoped>\n",
       "    .dataframe tbody tr th:only-of-type {\n",
       "        vertical-align: middle;\n",
       "    }\n",
       "\n",
       "    .dataframe tbody tr th {\n",
       "        vertical-align: top;\n",
       "    }\n",
       "\n",
       "    .dataframe thead th {\n",
       "        text-align: right;\n",
       "    }\n",
       "</style>\n",
       "<table border=\"1\" class=\"dataframe\">\n",
       "  <thead>\n",
       "    <tr style=\"text-align: right;\">\n",
       "      <th></th>\n",
       "      <th>candidate</th>\n",
       "      <th>party</th>\n",
       "      <th>votes_received</th>\n",
       "      <th>%_of_votes</th>\n",
       "    </tr>\n",
       "  </thead>\n",
       "  <tbody>\n",
       "    <tr>\n",
       "      <th>0</th>\n",
       "      <td>John Fetterman</td>\n",
       "      <td>Democrat</td>\n",
       "      <td>2,749,821</td>\n",
       "      <td>51.2%</td>\n",
       "    </tr>\n",
       "    <tr>\n",
       "      <th>1</th>\n",
       "      <td>Mehmet Oz</td>\n",
       "      <td>Republican</td>\n",
       "      <td>2,486,821</td>\n",
       "      <td>46.3%</td>\n",
       "    </tr>\n",
       "    <tr>\n",
       "      <th>2</th>\n",
       "      <td>Erik Gernhardt</td>\n",
       "      <td>Libertarian</td>\n",
       "      <td>72,861</td>\n",
       "      <td>1.4%</td>\n",
       "    </tr>\n",
       "    <tr>\n",
       "      <th>3</th>\n",
       "      <td>Richard Weiss</td>\n",
       "      <td>Green</td>\n",
       "      <td>30,422</td>\n",
       "      <td>0.6%</td>\n",
       "    </tr>\n",
       "    <tr>\n",
       "      <th>4</th>\n",
       "      <td>Daniel Wassmer</td>\n",
       "      <td>KEY</td>\n",
       "      <td>26,418</td>\n",
       "      <td>0.5%</td>\n",
       "    </tr>\n",
       "    <tr>\n",
       "      <th>5</th>\n",
       "      <td>Write-ins</td>\n",
       "      <td>N/A</td>\n",
       "      <td>366</td>\n",
       "      <td>&amp;lt;0.1%</td>\n",
       "    </tr>\n",
       "  </tbody>\n",
       "</table>\n",
       "</div>"
      ],
      "text/plain": [
       "        candidate        party votes_received %_of_votes\n",
       "0  John Fetterman     Democrat      2,749,821      51.2%\n",
       "1       Mehmet Oz   Republican      2,486,821      46.3%\n",
       "2  Erik Gernhardt  Libertarian         72,861       1.4%\n",
       "3   Richard Weiss        Green         30,422       0.6%\n",
       "4  Daniel Wassmer          KEY         26,418       0.5%\n",
       "5       Write-ins          N/A            366   &lt;0.1%"
      ]
     },
     "execution_count": 4,
     "metadata": {},
     "output_type": "execute_result"
    }
   ],
   "source": [
    "# data frame of results\n",
    "import pandas as pd\n",
    "df = pd.DataFrame()\n",
    "df['candidate'] = candidates\n",
    "df['party'] = party\n",
    "df['votes_received'] = votes\n",
    "df['%_of_votes'] = pct\n",
    "\n",
    "df"
   ]
  },
  {
   "cell_type": "code",
   "execution_count": null,
   "metadata": {},
   "outputs": [],
   "source": [
    "# send data to csv\n",
    "df.to_csv('reuters.csv')"
   ]
  }
 ],
 "metadata": {
  "kernelspec": {
   "display_name": "Python 3.10.6 64-bit",
   "language": "python",
   "name": "python3"
  },
  "language_info": {
   "codemirror_mode": {
    "name": "ipython",
    "version": 3
   },
   "file_extension": ".py",
   "mimetype": "text/x-python",
   "name": "python",
   "nbconvert_exporter": "python",
   "pygments_lexer": "ipython3",
   "version": "3.10.6"
  },
  "orig_nbformat": 4,
  "vscode": {
   "interpreter": {
    "hash": "aee8b7b246df8f9039afb4144a1f6fd8d2ca17a180786b69acc140d282b71a49"
   }
  }
 },
 "nbformat": 4,
 "nbformat_minor": 2
}
